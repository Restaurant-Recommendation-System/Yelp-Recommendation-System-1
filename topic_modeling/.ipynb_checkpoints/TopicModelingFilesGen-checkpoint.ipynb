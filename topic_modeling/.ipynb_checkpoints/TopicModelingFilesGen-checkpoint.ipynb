{
 "cells": [
  {
   "cell_type": "code",
   "execution_count": 2,
   "metadata": {
    "collapsed": true
   },
   "outputs": [],
   "source": [
    "from nltk.stem import *\n",
    "import numpy as np\n",
    "import textmining\n",
    "import re\n",
    "import lda\n",
    "import lda.datasets\n",
    "import json\n",
    "from nltk.corpus import stopwords\n",
    "from nltk.corpus import opinion_lexicon\n",
    "from nltk.corpus import nps_chat\n",
    "from scipy.sparse import coo_matrix\n",
    "stopWords = set(stopwords.words('english'))\n",
    "\n",
    "stemmer = SnowballStemmer(\"english\")\n",
    "stopWords |= set(nps_chat.words())\n",
    "stopWords |= set(opinion_lexicon.negative())\n",
    "stopWords |= set(opinion_lexicon.positive())"
   ]
  },
  {
   "cell_type": "code",
   "execution_count": 7,
   "metadata": {},
   "outputs": [
    {
     "name": "stdout",
     "output_type": "stream",
     "text": [
      "Processed all reviews!\n"
     ]
    }
   ],
   "source": [
    "reviewDocs = dict()\n",
    "with open(\"../input/review_sample.json\") as json_file:\n",
    "    line_count = 0\n",
    "    for line in json_file:\n",
    "        review = json.loads(line)\n",
    "        text = review['text']\n",
    "        text = re.sub('[^A-Za-z ]+', '', text)\n",
    "        text = \" \".join([word.strip() for word in text.lower().split() if word.strip() not in stopWords])\n",
    "        filename = \"../input/files/\"+review['review_id']\n",
    "        f = open(filename, 'w')\n",
    "        f.write(text)  # python will convert \\n to os.linesep\n",
    "        f.close() \n",
    "    print(\"Processed all reviews!\")"
   ]
  },
  {
   "cell_type": "code",
   "execution_count": null,
   "metadata": {
    "collapsed": true
   },
   "outputs": [],
   "source": []
  }
 ],
 "metadata": {
  "kernelspec": {
   "display_name": "Python 3",
   "language": "python",
   "name": "python3"
  },
  "language_info": {
   "codemirror_mode": {
    "name": "ipython",
    "version": 3
   },
   "file_extension": ".py",
   "mimetype": "text/x-python",
   "name": "python",
   "nbconvert_exporter": "python",
   "pygments_lexer": "ipython3",
   "version": "3.6.1"
  }
 },
 "nbformat": 4,
 "nbformat_minor": 2
}

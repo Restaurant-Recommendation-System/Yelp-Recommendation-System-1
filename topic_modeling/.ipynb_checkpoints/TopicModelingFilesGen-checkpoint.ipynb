{
 "cells": [
  {
   "cell_type": "code",
   "execution_count": 10,
   "metadata": {
    "collapsed": true
   },
   "outputs": [],
   "source": [
    "from nltk.stem import *\n",
    "import numpy as np\n",
    "import textmining\n",
    "import re\n",
    "import lda\n",
    "import lda.datasets\n",
    "import json\n",
    "from nltk.corpus import stopwords\n",
    "from nltk.corpus import opinion_lexicon\n",
    "from nltk.corpus import nps_chat\n",
    "from scipy.sparse import coo_matrix\n",
    "stopWords = set(stopwords.words('english'))\n",
    "\n",
    "stemmer = SnowballStemmer(\"english\")\n",
    "stopWords |= set(nps_chat.words())\n",
    "stopWords |= set(opinion_lexicon.negative())\n",
    "stopWords |= set(opinion_lexicon.positive())"
   ]
  },
  {
   "cell_type": "code",
   "execution_count": 2,
   "metadata": {},
   "outputs": [
    {
     "ename": "FileNotFoundError",
     "evalue": "[Errno 2] No such file or directory: '../input/files_filtered/ByRzJ8rF2KJWLr-cUNU6EA'",
     "output_type": "error",
     "traceback": [
      "\u001b[0;31m---------------------------------------------------------------------------\u001b[0m",
      "\u001b[0;31mFileNotFoundError\u001b[0m                         Traceback (most recent call last)",
      "\u001b[0;32m<ipython-input-2-69922a276a92>\u001b[0m in \u001b[0;36m<module>\u001b[0;34m()\u001b[0m\n\u001b[1;32m      8\u001b[0m         \u001b[0mtext\u001b[0m \u001b[0;34m=\u001b[0m \u001b[0;34m\" \"\u001b[0m\u001b[0;34m.\u001b[0m\u001b[0mjoin\u001b[0m\u001b[0;34m(\u001b[0m\u001b[0;34m[\u001b[0m\u001b[0mword\u001b[0m\u001b[0;34m.\u001b[0m\u001b[0mstrip\u001b[0m\u001b[0;34m(\u001b[0m\u001b[0;34m)\u001b[0m \u001b[0;32mfor\u001b[0m \u001b[0mword\u001b[0m \u001b[0;32min\u001b[0m \u001b[0mtext\u001b[0m\u001b[0;34m.\u001b[0m\u001b[0mlower\u001b[0m\u001b[0;34m(\u001b[0m\u001b[0;34m)\u001b[0m\u001b[0;34m.\u001b[0m\u001b[0msplit\u001b[0m\u001b[0;34m(\u001b[0m\u001b[0;34m)\u001b[0m \u001b[0;32mif\u001b[0m \u001b[0mword\u001b[0m\u001b[0;34m.\u001b[0m\u001b[0mstrip\u001b[0m\u001b[0;34m(\u001b[0m\u001b[0;34m)\u001b[0m \u001b[0;32mnot\u001b[0m \u001b[0;32min\u001b[0m \u001b[0mstopWords\u001b[0m\u001b[0;34m]\u001b[0m\u001b[0;34m)\u001b[0m\u001b[0;34m\u001b[0m\u001b[0m\n\u001b[1;32m      9\u001b[0m         \u001b[0mfilename\u001b[0m \u001b[0;34m=\u001b[0m \u001b[0;34m\"../input/files_filtered/\"\u001b[0m\u001b[0;34m+\u001b[0m\u001b[0mreview\u001b[0m\u001b[0;34m[\u001b[0m\u001b[0;34m'review_id'\u001b[0m\u001b[0;34m]\u001b[0m\u001b[0;34m\u001b[0m\u001b[0m\n\u001b[0;32m---> 10\u001b[0;31m         \u001b[0mf\u001b[0m \u001b[0;34m=\u001b[0m \u001b[0mopen\u001b[0m\u001b[0;34m(\u001b[0m\u001b[0mfilename\u001b[0m\u001b[0;34m,\u001b[0m \u001b[0;34m'w'\u001b[0m\u001b[0;34m)\u001b[0m\u001b[0;34m\u001b[0m\u001b[0m\n\u001b[0m\u001b[1;32m     11\u001b[0m         \u001b[0mf\u001b[0m\u001b[0;34m.\u001b[0m\u001b[0mwrite\u001b[0m\u001b[0;34m(\u001b[0m\u001b[0mtext\u001b[0m\u001b[0;34m)\u001b[0m  \u001b[0;31m# python will convert \\n to os.linesep\u001b[0m\u001b[0;34m\u001b[0m\u001b[0m\n\u001b[1;32m     12\u001b[0m         \u001b[0mf\u001b[0m\u001b[0;34m.\u001b[0m\u001b[0mclose\u001b[0m\u001b[0;34m(\u001b[0m\u001b[0;34m)\u001b[0m\u001b[0;34m\u001b[0m\u001b[0m\n",
      "\u001b[0;31mFileNotFoundError\u001b[0m: [Errno 2] No such file or directory: '../input/files_filtered/ByRzJ8rF2KJWLr-cUNU6EA'"
     ]
    }
   ],
   "source": [
    "reviewDocs = dict()\n",
    "with open(\"../input/review_sample.json\") as json_file:\n",
    "    line_count = 0\n",
    "    for line in json_file:\n",
    "        review = json.loads(line)\n",
    "        text = review['text']\n",
    "        text = re.sub('[^A-Za-z ]+', '', text)\n",
    "        text = \" \".join([word.strip() for word in text.lower().split() if word.strip() not in stopWords])\n",
    "        filename = \"../input/files_filtered/\"+review['review_id']\n",
    "        f = open(filename, 'w')\n",
    "        f.write(text)  # python will convert \\n to os.linesep\n",
    "        f.close() \n",
    "    print(\"Processed all reviews!\")"
   ]
  },
  {
   "cell_type": "code",
   "execution_count": 13,
   "metadata": {},
   "outputs": [
    {
     "name": "stdout",
     "output_type": "stream",
     "text": [
      "Processed all reviews!\n"
     ]
    }
   ],
   "source": [
    "#Convert reviews.json filtered for restaurant business to csv\n",
    "reviewDocs = dict()\n",
    "with open(\"../input/Filtered_Data/filtered_review.json\") as json_file:\n",
    "    line_count = 0\n",
    "    f = open(\"../output/filtered_review.csv\", 'w')\n",
    "    f.write(\"stars,review_id,user_id,business_id,text\\n\")\n",
    "    for line in json_file:\n",
    "        review = json.loads(line)\n",
    "        text = review['text']\n",
    "        text = re.sub('[^A-Za-z ]+', '', text)\n",
    "        text = \" \".join([word.strip() for word in text.lower().split() if word.strip() not in stopWords])\n",
    "        fs = \",\"\n",
    "        stars = review['stars']\n",
    "        rid = review['review_id']\n",
    "        uid = review['user_id']\n",
    "        bid = review['business_id']\n",
    "        useful = review['useful']\n",
    "        writeToCSV = str(stars)+fs+rid+fs+uid+fs+bid+fs+\"\\\"\"+text+\"\\\"\\n\"\n",
    "        f.write(writeToCSV)\n",
    "        f.flush()\n",
    "    f.close()\n",
    "    print(\"Processed all reviews!\")"
   ]
  },
  {
   "cell_type": "code",
   "execution_count": 14,
   "metadata": {},
   "outputs": [
    {
     "name": "stdout",
     "output_type": "stream",
     "text": [
      "Processed all reviews!\n"
     ]
    }
   ],
   "source": [
    "#Convert business.json filtered for restaurant business to csv\n",
    "reviewDocs = dict()\n",
    "with open(\"../input/Filtered_Data/filtered_business.json\") as json_file:\n",
    "    line_count = 0\n",
    "    f = open(\"../output/filtered_business.csv\", 'w')\n",
    "    f.write(\"stars,business_id,name,city\\n\")\n",
    "    for line in json_file:\n",
    "        business = json.loads(line)\n",
    "        stars = business['stars']\n",
    "        bid = business['business_id']\n",
    "        name = business['name']\n",
    "        city = business['city']\n",
    "        writeToCSV = str(stars)+fs+bid+fs+\"\\\"\"+name+\"\\\"\"+fs+city+\"\\n\"\n",
    "        f.write(writeToCSV)\n",
    "        f.flush()\n",
    "    f.close()\n",
    "    print(\"Processed all reviews!\")"
   ]
  },
  {
   "cell_type": "code",
   "execution_count": null,
   "metadata": {
    "collapsed": true
   },
   "outputs": [],
   "source": []
  }
 ],
 "metadata": {
  "kernelspec": {
   "display_name": "Python 3",
   "language": "python",
   "name": "python3"
  },
  "language_info": {
   "codemirror_mode": {
    "name": "ipython",
    "version": 3
   },
   "file_extension": ".py",
   "mimetype": "text/x-python",
   "name": "python",
   "nbconvert_exporter": "python",
   "pygments_lexer": "ipython3",
   "version": "3.6.1"
  }
 },
 "nbformat": 4,
 "nbformat_minor": 2
}

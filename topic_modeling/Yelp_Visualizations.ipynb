{
 "cells": [
  {
   "cell_type": "code",
   "execution_count": 1,
   "metadata": {
    "collapsed": true
   },
   "outputs": [],
   "source": [
    "import json\n",
    "import pandas as pd\n",
    "import numpy as np\n",
    "import os,sys\n",
    "import re\n",
    "import pickle"
   ]
  },
  {
   "cell_type": "code",
   "execution_count": 53,
   "metadata": {
    "collapsed": true
   },
   "outputs": [],
   "source": [
    "import csv\n",
    "import pygal  "
   ]
  },
  {
   "cell_type": "code",
   "execution_count": 60,
   "metadata": {
    "collapsed": true
   },
   "outputs": [],
   "source": [
    "import matplotlib.pyplot as plt\n",
    "from IPython.display import SVG, HTML, display\n",
    "%matplotlib inline"
   ]
  },
  {
   "cell_type": "code",
   "execution_count": 3,
   "metadata": {
    "collapsed": true
   },
   "outputs": [],
   "source": [
    "#Supress default INFO logging\n",
    "\n",
    "import logging\n",
    "#logger = logging.getLogger()\n",
    "#logger.setLevel(logging.CRITICAL)"
   ]
  },
  {
   "cell_type": "code",
   "execution_count": 4,
   "metadata": {},
   "outputs": [
    {
     "name": "stdout",
     "output_type": "stream",
     "text": [
      "Column names:\n",
      "['stars', 'review_id', 'useful', 'business_id', 'text', 'user_id', 'cool', 'date', 'funny']\n"
     ]
    }
   ],
   "source": [
    "#filename = 'Yelp-Recommendation-System/input/reviewTest.json'\n",
    "filename='data/filtered_review.json'\n",
    "with open(filename, encoding=\"utf8\", errors=\"ignore\") as fp:\n",
    "    sample_object = json.loads(fp.readline())\n",
    "    column_names = list(sample_object.keys())\n",
    "    \n",
    "print(\"Column names:\\n{}\".format(column_names))"
   ]
  },
  {
   "cell_type": "code",
   "execution_count": 5,
   "metadata": {
    "collapsed": true
   },
   "outputs": [],
   "source": [
    "reviews = []\n",
    "\n",
    "#filename = 'Yelp-Recommendation-System/input/reviewTest.json'\n",
    "filename='data/filtered_review.json'\n",
    "with open(filename, encoding=\"utf8\", errors=\"ignore\") as fp:\n",
    "    for line in fp:\n",
    "        review = json.loads(line)\n",
    "        selected_review = []\n",
    "        for item in column_names:\n",
    "            selected_review.append(review[item])\n",
    "        reviews.append(selected_review)"
   ]
  },
  {
   "cell_type": "code",
   "execution_count": 6,
   "metadata": {},
   "outputs": [
    {
     "data": {
      "text/plain": [
       "[1,\n",
       " 'ByRzJ8rF2KJWLr-cUNU6EA',\n",
       " 0,\n",
       " 'jQsNFOzDpxPmOurSWCg1vQ',\n",
       " 'This place is horrible, we were so excited to try it since I got a gift card for my birthday. We went in an ordered are whole meal and they did not except are gift card, because their system was down. Unacceptable, this would have been so helpful if we would have known this prior!!',\n",
       " 'kzyLOqiJvyw_FWFTw2rjiQ',\n",
       " 0,\n",
       " '2017-06-03',\n",
       " 0]"
      ]
     },
     "execution_count": 6,
     "metadata": {},
     "output_type": "execute_result"
    }
   ],
   "source": [
    "reviews[0]"
   ]
  },
  {
   "cell_type": "code",
   "execution_count": 7,
   "metadata": {
    "collapsed": true
   },
   "outputs": [],
   "source": [
    "reviews_df = pd.DataFrame(reviews, columns=column_names)"
   ]
  },
  {
   "cell_type": "code",
   "execution_count": 8,
   "metadata": {},
   "outputs": [
    {
     "data": {
      "text/html": [
       "<div>\n",
       "<style>\n",
       "    .dataframe thead tr:only-child th {\n",
       "        text-align: right;\n",
       "    }\n",
       "\n",
       "    .dataframe thead th {\n",
       "        text-align: left;\n",
       "    }\n",
       "\n",
       "    .dataframe tbody tr th {\n",
       "        vertical-align: top;\n",
       "    }\n",
       "</style>\n",
       "<table border=\"1\" class=\"dataframe\">\n",
       "  <thead>\n",
       "    <tr style=\"text-align: right;\">\n",
       "      <th></th>\n",
       "      <th>stars</th>\n",
       "      <th>review_id</th>\n",
       "      <th>useful</th>\n",
       "      <th>business_id</th>\n",
       "      <th>text</th>\n",
       "      <th>user_id</th>\n",
       "      <th>cool</th>\n",
       "      <th>date</th>\n",
       "      <th>funny</th>\n",
       "    </tr>\n",
       "  </thead>\n",
       "  <tbody>\n",
       "    <tr>\n",
       "      <th>0</th>\n",
       "      <td>1</td>\n",
       "      <td>ByRzJ8rF2KJWLr-cUNU6EA</td>\n",
       "      <td>0</td>\n",
       "      <td>jQsNFOzDpxPmOurSWCg1vQ</td>\n",
       "      <td>This place is horrible, we were so excited to ...</td>\n",
       "      <td>kzyLOqiJvyw_FWFTw2rjiQ</td>\n",
       "      <td>0</td>\n",
       "      <td>2017-06-03</td>\n",
       "      <td>0</td>\n",
       "    </tr>\n",
       "    <tr>\n",
       "      <th>1</th>\n",
       "      <td>4</td>\n",
       "      <td>i5UwUPlQFPLcE8p2gPFwBw</td>\n",
       "      <td>1</td>\n",
       "      <td>jQsNFOzDpxPmOurSWCg1vQ</td>\n",
       "      <td>For being fairly \"fast\" food.. Pei Wei (pronou...</td>\n",
       "      <td>WZXp9-V2dqRRJqhGgRqueA</td>\n",
       "      <td>0</td>\n",
       "      <td>2015-03-26</td>\n",
       "      <td>0</td>\n",
       "    </tr>\n",
       "    <tr>\n",
       "      <th>2</th>\n",
       "      <td>5</td>\n",
       "      <td>EyQyvTTg2jX4or9bB8PC9g</td>\n",
       "      <td>2</td>\n",
       "      <td>jQsNFOzDpxPmOurSWCg1vQ</td>\n",
       "      <td>I decided to try it out, I'm celiac and theref...</td>\n",
       "      <td>XylT12exfdLiI_3uDLVIpw</td>\n",
       "      <td>1</td>\n",
       "      <td>2012-12-30</td>\n",
       "      <td>1</td>\n",
       "    </tr>\n",
       "    <tr>\n",
       "      <th>3</th>\n",
       "      <td>3</td>\n",
       "      <td>G-EFA005besj5uHsH0sQFA</td>\n",
       "      <td>1</td>\n",
       "      <td>jQsNFOzDpxPmOurSWCg1vQ</td>\n",
       "      <td>I'm not saying Pei Wei is the best asian food ...</td>\n",
       "      <td>Ji9PeffxjwqPLO7pEfSpKQ</td>\n",
       "      <td>1</td>\n",
       "      <td>2009-01-12</td>\n",
       "      <td>1</td>\n",
       "    </tr>\n",
       "    <tr>\n",
       "      <th>4</th>\n",
       "      <td>3</td>\n",
       "      <td>6PcJSGUBSLjt4VLXos5C4A</td>\n",
       "      <td>0</td>\n",
       "      <td>jQsNFOzDpxPmOurSWCg1vQ</td>\n",
       "      <td>Sometimes the food is spot on and delicious an...</td>\n",
       "      <td>TLIWzAJPrET0zX4_vgvLhg</td>\n",
       "      <td>0</td>\n",
       "      <td>2015-07-11</td>\n",
       "      <td>0</td>\n",
       "    </tr>\n",
       "  </tbody>\n",
       "</table>\n",
       "</div>"
      ],
      "text/plain": [
       "   stars               review_id  useful             business_id  \\\n",
       "0      1  ByRzJ8rF2KJWLr-cUNU6EA       0  jQsNFOzDpxPmOurSWCg1vQ   \n",
       "1      4  i5UwUPlQFPLcE8p2gPFwBw       1  jQsNFOzDpxPmOurSWCg1vQ   \n",
       "2      5  EyQyvTTg2jX4or9bB8PC9g       2  jQsNFOzDpxPmOurSWCg1vQ   \n",
       "3      3  G-EFA005besj5uHsH0sQFA       1  jQsNFOzDpxPmOurSWCg1vQ   \n",
       "4      3  6PcJSGUBSLjt4VLXos5C4A       0  jQsNFOzDpxPmOurSWCg1vQ   \n",
       "\n",
       "                                                text                 user_id  \\\n",
       "0  This place is horrible, we were so excited to ...  kzyLOqiJvyw_FWFTw2rjiQ   \n",
       "1  For being fairly \"fast\" food.. Pei Wei (pronou...  WZXp9-V2dqRRJqhGgRqueA   \n",
       "2  I decided to try it out, I'm celiac and theref...  XylT12exfdLiI_3uDLVIpw   \n",
       "3  I'm not saying Pei Wei is the best asian food ...  Ji9PeffxjwqPLO7pEfSpKQ   \n",
       "4  Sometimes the food is spot on and delicious an...  TLIWzAJPrET0zX4_vgvLhg   \n",
       "\n",
       "   cool        date  funny  \n",
       "0     0  2017-06-03      0  \n",
       "1     0  2015-03-26      0  \n",
       "2     1  2012-12-30      1  \n",
       "3     1  2009-01-12      1  \n",
       "4     0  2015-07-11      0  "
      ]
     },
     "execution_count": 8,
     "metadata": {},
     "output_type": "execute_result"
    }
   ],
   "source": [
    "reviews_df.head()"
   ]
  },
  {
   "cell_type": "code",
   "execution_count": 9,
   "metadata": {},
   "outputs": [
    {
     "data": {
      "text/plain": [
       "stars          3216538\n",
       "review_id      3216538\n",
       "useful         3216538\n",
       "business_id    3216538\n",
       "text           3216538\n",
       "user_id        3216538\n",
       "cool           3216538\n",
       "date           3216538\n",
       "funny          3216538\n",
       "dtype: int64"
      ]
     },
     "execution_count": 9,
     "metadata": {},
     "output_type": "execute_result"
    }
   ],
   "source": [
    "reviews_df.count()"
   ]
  },
  {
   "cell_type": "markdown",
   "metadata": {},
   "source": [
    "# Exploratory Analysis"
   ]
  },
  {
   "cell_type": "markdown",
   "metadata": {},
   "source": [
    "## Update  0"
   ]
  },
  {
   "cell_type": "code",
   "execution_count": 10,
   "metadata": {},
   "outputs": [
    {
     "data": {
      "text/plain": [
       "[(1, 353524), (2, 307973), (3, 453642), (4, 895982), (5, 1205417)]"
      ]
     },
     "execution_count": 10,
     "metadata": {},
     "output_type": "execute_result"
    }
   ],
   "source": [
    "review_count_dict = dict(reviews_df['stars'].value_counts())\n",
    "star_counts = sorted(review_count_dict.items(), key=lambda x:x[0])\n",
    "star_counts"
   ]
  },
  {
   "cell_type": "code",
   "execution_count": 11,
   "metadata": {},
   "outputs": [
    {
     "data": {
      "image/png": "[encoded data removed]",
      "text/plain": [
       "<matplotlib.figure.Figure at 0x26c6bb37be0>"
      ]
     },
     "metadata": {},
     "output_type": "display_data"
    }
   ],
   "source": [
    "fig, ax = plt.subplots()\n",
    "\n",
    "plt.bar(*zip(*star_counts),width=0.9)\n",
    "\n",
    "ax.set_title(\"Review Count per Star\")\n",
    "ax.set_xlabel(\"Star Rating\")\n",
    "ax.set_ylabel(\"No of Reviews\")\n",
    "fig.tight_layout()"
   ]
  },
  {
   "cell_type": "markdown",
   "metadata": {
    "collapsed": true
   },
   "source": [
    "### Restaurants"
   ]
  },
  {
   "cell_type": "code",
   "execution_count": 12,
   "metadata": {},
   "outputs": [
    {
     "name": "stdout",
     "output_type": "stream",
     "text": [
      "Column names:\n",
      "['hours', 'review_count', 'address', 'categories', 'latitude', 'is_open', 'stars', 'attributes', 'city', 'name', 'state', 'neighborhood', 'business_id', 'longitude', 'postal_code']\n"
     ]
    }
   ],
   "source": [
    "#filename = 'Yelp-Recommendation-System/input/reviewTest.json'\n",
    "filename='data/filtered_business.json'\n",
    "with open(filename, encoding=\"utf8\", errors=\"ignore\") as fp:\n",
    "    sample_object = json.loads(fp.readline())\n",
    "    column_names = list(sample_object.keys())\n",
    "    \n",
    "print(\"Column names:\\n{}\".format(column_names))"
   ]
  },
  {
   "cell_type": "code",
   "execution_count": 13,
   "metadata": {
    "collapsed": true
   },
   "outputs": [],
   "source": [
    "# Filtering Column names\n",
    "column_names = ['business_id', 'name', 'review_count', 'stars', 'is_open', 'categories', 'attributes', 'city', 'state', 'latitude', 'longitude']"
   ]
  },
  {
   "cell_type": "code",
   "execution_count": 14,
   "metadata": {
    "collapsed": true
   },
   "outputs": [],
   "source": [
    "restaurants = []\n",
    "\n",
    "#filename = 'Yelp-Recommendation-System/input/reviewTest.json'\n",
    "filename='data/filtered_business.json'\n",
    "with open(filename, encoding=\"utf8\", errors=\"ignore\") as fp:\n",
    "    for line in fp:\n",
    "        business = json.loads(line)\n",
    "        selected_business = []\n",
    "        for item in column_names:\n",
    "            selected_business.append(business[item])\n",
    "        restaurants.append(selected_business)"
   ]
  },
  {
   "cell_type": "code",
   "execution_count": 15,
   "metadata": {},
   "outputs": [
    {
     "data": {
      "text/plain": [
       "['mLwM-h2YhXl2NCgdS84_Bw',\n",
       " 'South Florida Style Chicken & Ribs',\n",
       " 4,\n",
       " 4.5,\n",
       " 0,\n",
       " ['Food', 'Soul Food', 'Convenience Stores', 'Restaurants'],\n",
       " {'Ambience': {'casual': False,\n",
       "   'classy': False,\n",
       "   'divey': False,\n",
       "   'hipster': False,\n",
       "   'intimate': False,\n",
       "   'romantic': False,\n",
       "   'touristy': False,\n",
       "   'trendy': False,\n",
       "   'upscale': False},\n",
       "  'BusinessAcceptsCreditCards': False,\n",
       "  'GoodForKids': True,\n",
       "  'GoodForMeal': {'breakfast': False,\n",
       "   'brunch': False,\n",
       "   'dessert': False,\n",
       "   'dinner': False,\n",
       "   'latenight': False,\n",
       "   'lunch': False},\n",
       "  'HasTV': False,\n",
       "  'NoiseLevel': 'average',\n",
       "  'OutdoorSeating': False,\n",
       "  'RestaurantsAttire': 'casual',\n",
       "  'RestaurantsDelivery': True,\n",
       "  'RestaurantsGoodForGroups': True,\n",
       "  'RestaurantsPriceRange2': 2,\n",
       "  'RestaurantsReservations': False,\n",
       "  'RestaurantsTakeOut': True},\n",
       " 'Charlotte',\n",
       " 'NC',\n",
       " 35.23687,\n",
       " -80.7419759]"
      ]
     },
     "execution_count": 15,
     "metadata": {},
     "output_type": "execute_result"
    }
   ],
   "source": [
    "restaurants[0]"
   ]
  },
  {
   "cell_type": "code",
   "execution_count": 16,
   "metadata": {
    "collapsed": true
   },
   "outputs": [],
   "source": [
    "restaurants_df = pd.DataFrame(restaurants, columns=column_names)"
   ]
  },
  {
   "cell_type": "code",
   "execution_count": 17,
   "metadata": {},
   "outputs": [
    {
     "data": {
      "text/html": [
       "<div>\n",
       "<style>\n",
       "    .dataframe thead tr:only-child th {\n",
       "        text-align: right;\n",
       "    }\n",
       "\n",
       "    .dataframe thead th {\n",
       "        text-align: left;\n",
       "    }\n",
       "\n",
       "    .dataframe tbody tr th {\n",
       "        vertical-align: top;\n",
       "    }\n",
       "</style>\n",
       "<table border=\"1\" class=\"dataframe\">\n",
       "  <thead>\n",
       "    <tr style=\"text-align: right;\">\n",
       "      <th></th>\n",
       "      <th>business_id</th>\n",
       "      <th>name</th>\n",
       "      <th>review_count</th>\n",
       "      <th>stars</th>\n",
       "      <th>is_open</th>\n",
       "      <th>categories</th>\n",
       "      <th>attributes</th>\n",
       "      <th>city</th>\n",
       "      <th>state</th>\n",
       "      <th>latitude</th>\n",
       "      <th>longitude</th>\n",
       "    </tr>\n",
       "  </thead>\n",
       "  <tbody>\n",
       "    <tr>\n",
       "      <th>0</th>\n",
       "      <td>mLwM-h2YhXl2NCgdS84_Bw</td>\n",
       "      <td>South Florida Style Chicken &amp; Ribs</td>\n",
       "      <td>4</td>\n",
       "      <td>4.5</td>\n",
       "      <td>0</td>\n",
       "      <td>[Food, Soul Food, Convenience Stores, Restaura...</td>\n",
       "      <td>{'Ambience': {'hipster': False, 'divey': False...</td>\n",
       "      <td>Charlotte</td>\n",
       "      <td>NC</td>\n",
       "      <td>35.236870</td>\n",
       "      <td>-80.741976</td>\n",
       "    </tr>\n",
       "    <tr>\n",
       "      <th>1</th>\n",
       "      <td>v2WhjAB3PIBA8J8VxG3wEg</td>\n",
       "      <td>The Tea Emporium</td>\n",
       "      <td>7</td>\n",
       "      <td>4.5</td>\n",
       "      <td>0</td>\n",
       "      <td>[Food, Coffee &amp; Tea]</td>\n",
       "      <td>{'RestaurantsPriceRange2': 2, 'WiFi': 'no', 'B...</td>\n",
       "      <td>Toronto</td>\n",
       "      <td>ON</td>\n",
       "      <td>43.677126</td>\n",
       "      <td>-79.353285</td>\n",
       "    </tr>\n",
       "    <tr>\n",
       "      <th>2</th>\n",
       "      <td>duHFBe87uNSXImQmvBh87Q</td>\n",
       "      <td>Blimpie</td>\n",
       "      <td>10</td>\n",
       "      <td>4.5</td>\n",
       "      <td>0</td>\n",
       "      <td>[Sandwiches, Restaurants]</td>\n",
       "      <td>{'Ambience': {'hipster': False, 'divey': False...</td>\n",
       "      <td>Phoenix</td>\n",
       "      <td>AZ</td>\n",
       "      <td>33.505928</td>\n",
       "      <td>-112.038847</td>\n",
       "    </tr>\n",
       "    <tr>\n",
       "      <th>3</th>\n",
       "      <td>n33Izvzk_z9_51H6NsQF-A</td>\n",
       "      <td>Safeway</td>\n",
       "      <td>21</td>\n",
       "      <td>2.0</td>\n",
       "      <td>1</td>\n",
       "      <td>[Flowers &amp; Gifts, Bakeries, Grocery, Shopping,...</td>\n",
       "      <td>{'RestaurantsPriceRange2': 2, 'Caters': True, ...</td>\n",
       "      <td>Mesa</td>\n",
       "      <td>AZ</td>\n",
       "      <td>33.377428</td>\n",
       "      <td>-111.638108</td>\n",
       "    </tr>\n",
       "    <tr>\n",
       "      <th>4</th>\n",
       "      <td>SDMRxmcKPNt1AHPBKqO64Q</td>\n",
       "      <td>Applebee's</td>\n",
       "      <td>21</td>\n",
       "      <td>2.0</td>\n",
       "      <td>1</td>\n",
       "      <td>[Burgers, Bars, Restaurants, Sports Bars, Nigh...</td>\n",
       "      <td>{'Ambience': {'hipster': False, 'divey': False...</td>\n",
       "      <td>Matthews</td>\n",
       "      <td>NC</td>\n",
       "      <td>35.135196</td>\n",
       "      <td>-80.714683</td>\n",
       "    </tr>\n",
       "  </tbody>\n",
       "</table>\n",
       "</div>"
      ],
      "text/plain": [
       "              business_id                                name  review_count  \\\n",
       "0  mLwM-h2YhXl2NCgdS84_Bw  South Florida Style Chicken & Ribs             4   \n",
       "1  v2WhjAB3PIBA8J8VxG3wEg                    The Tea Emporium             7   \n",
       "2  duHFBe87uNSXImQmvBh87Q                             Blimpie            10   \n",
       "3  n33Izvzk_z9_51H6NsQF-A                             Safeway            21   \n",
       "4  SDMRxmcKPNt1AHPBKqO64Q                          Applebee's            21   \n",
       "\n",
       "   stars  is_open                                         categories  \\\n",
       "0    4.5        0  [Food, Soul Food, Convenience Stores, Restaura...   \n",
       "1    4.5        0                               [Food, Coffee & Tea]   \n",
       "2    4.5        0                          [Sandwiches, Restaurants]   \n",
       "3    2.0        1  [Flowers & Gifts, Bakeries, Grocery, Shopping,...   \n",
       "4    2.0        1  [Burgers, Bars, Restaurants, Sports Bars, Nigh...   \n",
       "\n",
       "                                          attributes       city state  \\\n",
       "0  {'Ambience': {'hipster': False, 'divey': False...  Charlotte    NC   \n",
       "1  {'RestaurantsPriceRange2': 2, 'WiFi': 'no', 'B...    Toronto    ON   \n",
       "2  {'Ambience': {'hipster': False, 'divey': False...    Phoenix    AZ   \n",
       "3  {'RestaurantsPriceRange2': 2, 'Caters': True, ...       Mesa    AZ   \n",
       "4  {'Ambience': {'hipster': False, 'divey': False...   Matthews    NC   \n",
       "\n",
       "    latitude   longitude  \n",
       "0  35.236870  -80.741976  \n",
       "1  43.677126  -79.353285  \n",
       "2  33.505928 -112.038847  \n",
       "3  33.377428 -111.638108  \n",
       "4  35.135196  -80.714683  "
      ]
     },
     "execution_count": 17,
     "metadata": {},
     "output_type": "execute_result"
    }
   ],
   "source": [
    "restaurants_df.head()"
   ]
  },
  {
   "cell_type": "code",
   "execution_count": 18,
   "metadata": {},
   "outputs": [
    {
     "data": {
      "text/plain": [
       "business_id     65028\n",
       "name            65028\n",
       "review_count    65028\n",
       "stars           65028\n",
       "is_open         65028\n",
       "categories      65028\n",
       "attributes      65028\n",
       "city            65028\n",
       "state           65028\n",
       "latitude        65028\n",
       "longitude       65028\n",
       "dtype: int64"
      ]
     },
     "execution_count": 18,
     "metadata": {},
     "output_type": "execute_result"
    }
   ],
   "source": [
    "restaurants_df.count()"
   ]
  },
  {
   "cell_type": "code",
   "execution_count": 19,
   "metadata": {},
   "outputs": [
    {
     "data": {
      "text/plain": [
       "ON     15703\n",
       "AZ     13242\n",
       "NV      8897\n",
       "OH      5634\n",
       "QC      5431\n",
       "NC      4663\n",
       "PA      4382\n",
       "BW      1992\n",
       "WI      1870\n",
       "EDH     1831\n",
       "IL       748\n",
       "SC       274\n",
       "MLN      112\n",
       "HLD       73\n",
       "FIF       30\n",
       "ELN       29\n",
       "C         26\n",
       "WLN       19\n",
       "NYK       17\n",
       "NY        12\n",
       "NI        10\n",
       "ST         6\n",
       "01         6\n",
       "ESX        4\n",
       "BY         3\n",
       "WA         2\n",
       "3          1\n",
       "RCC        1\n",
       "XGL        1\n",
       "ZET        1\n",
       "PKN        1\n",
       "HH         1\n",
       "CA         1\n",
       "GLG        1\n",
       "KHL        1\n",
       "ABE        1\n",
       "FLN        1\n",
       "WHT        1\n",
       "Name: state, dtype: int64"
      ]
     },
     "execution_count": 19,
     "metadata": {},
     "output_type": "execute_result"
    }
   ],
   "source": [
    "restaurants_df['state'].value_counts()"
   ]
  },
  {
   "cell_type": "code",
   "execution_count": 20,
   "metadata": {
    "collapsed": true
   },
   "outputs": [],
   "source": [
    "us_states = [\"AL\", \"AK\", \"AZ\", \"AR\", \"CA\", \"CO\", \"CT\", \"DC\", \"DE\", \"FL\", \"GA\", \n",
    "             \"HI\", \"ID\", \"IL\", \"IN\", \"IA\", \"KS\", \"KY\", \"LA\", \"ME\", \"MD\", \n",
    "             \"MA\", \"MI\", \"MN\", \"MS\", \"MO\", \"MT\", \"NE\", \"NV\", \"NH\", \"NJ\", \n",
    "             \"NM\", \"NY\", \"NC\", \"ND\", \"OH\", \"OK\", \"OR\", \"PA\", \"RI\", \"SC\", \n",
    "             \"SD\", \"TN\", \"TX\", \"UT\", \"VT\", \"VA\", \"WA\", \"WV\", \"WI\", \"WY\"]"
   ]
  },
  {
   "cell_type": "code",
   "execution_count": 21,
   "metadata": {
    "collapsed": true
   },
   "outputs": [],
   "source": [
    "us_restaurants = restaurants_df[restaurants_df['state'].isin(us_states)]"
   ]
  },
  {
   "cell_type": "code",
   "execution_count": 22,
   "metadata": {},
   "outputs": [
    {
     "name": "stdout",
     "output_type": "stream",
     "text": [
      "Total Restaurants(US): 39725\n",
      "29730 open and 9995 closed\n"
     ]
    }
   ],
   "source": [
    "print(\"Total Restaurants(US): {0}\".format(len(us_restaurants.index)))\n",
    "print(\"{0} open and {1} closed\".format(us_restaurants['is_open'].value_counts()[1], us_restaurants['is_open'].value_counts()[0]))"
   ]
  },
  {
   "cell_type": "code",
   "execution_count": 23,
   "metadata": {},
   "outputs": [
    {
     "data": {
      "image/png": "[encoded data removed]",
      "text/plain": [
       "<matplotlib.figure.Figure at 0x26c7c9ac710>"
      ]
     },
     "metadata": {},
     "output_type": "display_data"
    }
   ],
   "source": [
    "fig, ax = plt.subplots()\n",
    "bins = [x/2. for x in range(2,11)]\n",
    "ax.hist(us_restaurants['stars'], bins=bins)\n",
    "\n",
    "ax.set_title(\"Restaurant distribution by Star Rating\")\n",
    "ax.set_xlabel(\"Star Rating\")\n",
    "ax.set_ylabel(\"No of Restaurants\")\n",
    "fig.tight_layout()"
   ]
  },
  {
   "cell_type": "code",
   "execution_count": 24,
   "metadata": {},
   "outputs": [
    {
     "data": {
      "text/plain": [
       "AZ    13242\n",
       "NV     8897\n",
       "OH     5634\n",
       "NC     4663\n",
       "PA     4382\n",
       "WI     1870\n",
       "IL      748\n",
       "SC      274\n",
       "NY       12\n",
       "WA        2\n",
       "CA        1\n",
       "Name: state, dtype: int64"
      ]
     },
     "execution_count": 24,
     "metadata": {},
     "output_type": "execute_result"
    }
   ],
   "source": [
    "us_restaurants['state'].value_counts()"
   ]
  },
  {
   "cell_type": "code",
   "execution_count": 25,
   "metadata": {},
   "outputs": [
    {
     "data": {
      "text/plain": [
       "4.0    9611\n",
       "3.5    9072\n",
       "3.0    6791\n",
       "4.5    5233\n",
       "2.5    4062\n",
       "2.0    2229\n",
       "5.0    1618\n",
       "1.5     835\n",
       "1.0     274\n",
       "Name: stars, dtype: int64"
      ]
     },
     "execution_count": 25,
     "metadata": {},
     "output_type": "execute_result"
    }
   ],
   "source": [
    "us_restaurants['stars'].value_counts()"
   ]
  },
  {
   "cell_type": "code",
   "execution_count": 26,
   "metadata": {
    "collapsed": true
   },
   "outputs": [],
   "source": [
    "one_star = us_restaurants.loc[restaurants_df['stars'].isin([1,1.5])]\n",
    "one_star = one_star.reset_index(drop=True)\n",
    "five_star = us_restaurants.loc[restaurants_df['stars'].isin([4.5,5])]\n",
    "five_star = five_star.reset_index(drop=True)"
   ]
  },
  {
   "cell_type": "code",
   "execution_count": 27,
   "metadata": {
    "collapsed": true
   },
   "outputs": [],
   "source": [
    "delivery_list_1 = [r.get('RestaurantsDelivery') for r in one_star['attributes']]\n",
    "delivery_list_5 = [r.get('RestaurantsDelivery') for r in five_star['attributes']]"
   ]
  },
  {
   "cell_type": "code",
   "execution_count": 28,
   "metadata": {},
   "outputs": [
    {
     "data": {
      "image/png": "[encoded data removed]",
      "text/plain": [
       "<matplotlib.figure.Figure at 0x26c7cc60898>"
      ]
     },
     "metadata": {},
     "output_type": "display_data"
    }
   ],
   "source": [
    "delivery_percent_1 = delivery_list_1.count(True)/len(delivery_list_1)\n",
    "delivery_percent_5 = delivery_list_5.count(True)/len(delivery_list_5)\n",
    "\n",
    "f, (ax1, ax2) = plt.subplots(1, 2, figsize=(14,6))\n",
    "\n",
    "ax1.bar(1,delivery_percent_1, color='red',label='Delivery mentioned')\n",
    "ax1.bar(2,(1- delivery_percent_1), color='gold',label='No mention')\n",
    "\n",
    "ax2.bar(1,delivery_percent_5, color='red',label='Delivery mentioned')\n",
    "ax2.bar(2,(1- delivery_percent_5), color='gold',label='No mention')\n",
    "\n",
    "ax1.set_title(\"Delivery offer (1-Star)\")\n",
    "ax1.set_xlabel(\"1-Star Rating\")\n",
    "ax1.set_ylabel(\"% of Restaurants\")\n",
    "ax1.set_xticks([], minor=False)\n",
    "ax1.legend()\n",
    "\n",
    "ax2.set_title(\"Delivery offer (5-Star)\")\n",
    "ax2.set_xlabel(\"5-Star Rating\")\n",
    "ax2.set_ylabel(\"% of Restaurants\")\n",
    "ax2.set_xticks([], minor=False)\n",
    "\n",
    "ax2.legend()\n",
    "fig.tight_layout()"
   ]
  },
  {
   "cell_type": "code",
   "execution_count": 29,
   "metadata": {},
   "outputs": [
    {
     "data": {
      "text/plain": [
       "(0.12623985572587917, 0.1315136476426799)"
      ]
     },
     "execution_count": 29,
     "metadata": {},
     "output_type": "execute_result"
    }
   ],
   "source": [
    "delivery_percent_1, delivery_percent_5"
   ]
  },
  {
   "cell_type": "markdown",
   "metadata": {
    "collapsed": true
   },
   "source": [
    "## User"
   ]
  },
  {
   "cell_type": "code",
   "execution_count": 30,
   "metadata": {},
   "outputs": [
    {
     "name": "stdout",
     "output_type": "stream",
     "text": [
      "Column names:\n",
      "['user_id', 'name', 'review_count', 'yelping_since', 'friends', 'useful', 'funny', 'cool', 'fans', 'elite', 'average_stars', 'compliment_hot', 'compliment_more', 'compliment_profile', 'compliment_cute', 'compliment_list', 'compliment_note', 'compliment_plain', 'compliment_cool', 'compliment_funny', 'compliment_writer', 'compliment_photos']\n"
     ]
    }
   ],
   "source": [
    "#filename = 'Yelp-Recommendation-System/input/reviewTest.json'\n",
    "filename='data/user.json'\n",
    "with open(filename, encoding=\"utf8\", errors=\"ignore\") as fp:\n",
    "    sample_object = json.loads(fp.readline())\n",
    "    column_names = list(sample_object.keys())\n",
    "    \n",
    "print(\"Column names:\\n{}\".format(column_names))"
   ]
  },
  {
   "cell_type": "code",
   "execution_count": 31,
   "metadata": {
    "collapsed": true
   },
   "outputs": [],
   "source": [
    "# Filtering Column names\n",
    "column_names = ['user_id', 'name', 'review_count', 'yelping_since', 'friends', 'elite', 'average_stars']"
   ]
  },
  {
   "cell_type": "code",
   "execution_count": 32,
   "metadata": {
    "collapsed": true
   },
   "outputs": [],
   "source": [
    "users = []\n",
    "\n",
    "#filename = 'Yelp-Recommendation-System/input/reviewTest.json'\n",
    "filename='data/user.json'\n",
    "with open(filename, encoding=\"utf8\", errors=\"ignore\") as fp:\n",
    "    for line in fp:\n",
    "        user = json.loads(line)\n",
    "        selected_user = []\n",
    "        for item in column_names:\n",
    "            selected_user.append(user[item])\n",
    "        users.append(selected_user)"
   ]
  },
  {
   "cell_type": "code",
   "execution_count": 33,
   "metadata": {
    "collapsed": true
   },
   "outputs": [],
   "source": [
    "users_df = pd.DataFrame(users, columns=column_names)"
   ]
  },
  {
   "cell_type": "code",
   "execution_count": 34,
   "metadata": {},
   "outputs": [
    {
     "data": {
      "text/html": [
       "<div>\n",
       "<style>\n",
       "    .dataframe thead tr:only-child th {\n",
       "        text-align: right;\n",
       "    }\n",
       "\n",
       "    .dataframe thead th {\n",
       "        text-align: left;\n",
       "    }\n",
       "\n",
       "    .dataframe tbody tr th {\n",
       "        vertical-align: top;\n",
       "    }\n",
       "</style>\n",
       "<table border=\"1\" class=\"dataframe\">\n",
       "  <thead>\n",
       "    <tr style=\"text-align: right;\">\n",
       "      <th></th>\n",
       "      <th>user_id</th>\n",
       "      <th>name</th>\n",
       "      <th>review_count</th>\n",
       "      <th>yelping_since</th>\n",
       "      <th>friends</th>\n",
       "      <th>elite</th>\n",
       "      <th>average_stars</th>\n",
       "    </tr>\n",
       "  </thead>\n",
       "  <tbody>\n",
       "    <tr>\n",
       "      <th>0</th>\n",
       "      <td>lsSiIjAKVl-QRxKjRErBeg</td>\n",
       "      <td>Cin</td>\n",
       "      <td>272</td>\n",
       "      <td>2010-07-13</td>\n",
       "      <td>[M19NwFwAXKRZzt8koF11hQ, QRcMZ8pJJBBZaKubHOoMD...</td>\n",
       "      <td>[2014, 2016, 2013, 2011, 2012, 2015, 2010, 2017]</td>\n",
       "      <td>3.80</td>\n",
       "    </tr>\n",
       "    <tr>\n",
       "      <th>1</th>\n",
       "      <td>om5ZiponkpRqUNa3pVPiRg</td>\n",
       "      <td>Andrea</td>\n",
       "      <td>2559</td>\n",
       "      <td>2006-01-18</td>\n",
       "      <td>[eoSSJzdprj3jxXyi94vDXg, QF0urZa-0bxga17ZeY-9l...</td>\n",
       "      <td>[2014, 2017, 2011, 2012, 2015, 2009, 2013, 200...</td>\n",
       "      <td>3.94</td>\n",
       "    </tr>\n",
       "    <tr>\n",
       "      <th>2</th>\n",
       "      <td>-lGwMGHMC_XihFJNKCJNRg</td>\n",
       "      <td>Gabe</td>\n",
       "      <td>277</td>\n",
       "      <td>2014-10-31</td>\n",
       "      <td>[Oa84FFGBw1axX8O6uDkmqg, SRcWERSl4rhm-Bz9zN_J8...</td>\n",
       "      <td>[]</td>\n",
       "      <td>4.72</td>\n",
       "    </tr>\n",
       "    <tr>\n",
       "      <th>3</th>\n",
       "      <td>D-ydMTPGWXTVm4_jjp0k9g</td>\n",
       "      <td>Leah</td>\n",
       "      <td>436</td>\n",
       "      <td>2013-04-01</td>\n",
       "      <td>[96DJovjKAtExnyBZRfniPQ, Djczq-bRn761U4FW77NUt...</td>\n",
       "      <td>[2016, 2017]</td>\n",
       "      <td>3.76</td>\n",
       "    </tr>\n",
       "    <tr>\n",
       "      <th>4</th>\n",
       "      <td>PcvbBOCOcs6_suRDH7TSTg</td>\n",
       "      <td>Juan</td>\n",
       "      <td>921</td>\n",
       "      <td>2012-08-16</td>\n",
       "      <td>[iN0A6QIrEFYoSGHFaknh8Q, B2HDoWNIzLlon0IhS1cmD...</td>\n",
       "      <td>[2017, 2016]</td>\n",
       "      <td>4.23</td>\n",
       "    </tr>\n",
       "  </tbody>\n",
       "</table>\n",
       "</div>"
      ],
      "text/plain": [
       "                  user_id    name  review_count yelping_since  \\\n",
       "0  lsSiIjAKVl-QRxKjRErBeg     Cin           272    2010-07-13   \n",
       "1  om5ZiponkpRqUNa3pVPiRg  Andrea          2559    2006-01-18   \n",
       "2  -lGwMGHMC_XihFJNKCJNRg    Gabe           277    2014-10-31   \n",
       "3  D-ydMTPGWXTVm4_jjp0k9g    Leah           436    2013-04-01   \n",
       "4  PcvbBOCOcs6_suRDH7TSTg    Juan           921    2012-08-16   \n",
       "\n",
       "                                             friends  \\\n",
       "0  [M19NwFwAXKRZzt8koF11hQ, QRcMZ8pJJBBZaKubHOoMD...   \n",
       "1  [eoSSJzdprj3jxXyi94vDXg, QF0urZa-0bxga17ZeY-9l...   \n",
       "2  [Oa84FFGBw1axX8O6uDkmqg, SRcWERSl4rhm-Bz9zN_J8...   \n",
       "3  [96DJovjKAtExnyBZRfniPQ, Djczq-bRn761U4FW77NUt...   \n",
       "4  [iN0A6QIrEFYoSGHFaknh8Q, B2HDoWNIzLlon0IhS1cmD...   \n",
       "\n",
       "                                               elite  average_stars  \n",
       "0   [2014, 2016, 2013, 2011, 2012, 2015, 2010, 2017]           3.80  \n",
       "1  [2014, 2017, 2011, 2012, 2015, 2009, 2013, 200...           3.94  \n",
       "2                                                 []           4.72  \n",
       "3                                       [2016, 2017]           3.76  \n",
       "4                                       [2017, 2016]           4.23  "
      ]
     },
     "execution_count": 34,
     "metadata": {},
     "output_type": "execute_result"
    }
   ],
   "source": [
    "users_df.head()"
   ]
  },
  {
   "cell_type": "code",
   "execution_count": 35,
   "metadata": {},
   "outputs": [
    {
     "data": {
      "image/png": "[encoded data removed]",
      "text/plain": [
       "<matplotlib.figure.Figure at 0x26d7058a7b8>"
      ]
     },
     "metadata": {},
     "output_type": "display_data"
    }
   ],
   "source": [
    "fig, ax = plt.subplots()\n",
    "\n",
    "bins = np.arange(10,210,10)\n",
    "ax.hist(users_df['review_count'], bins=bins)\n",
    "\n",
    "ax.set_title(\"User distribution by Review Count (10-200)\")\n",
    "ax.set_xlabel(\"Review Count\")\n",
    "ax.set_ylabel(\"No of Users\")\n",
    "\n",
    "x_ticks = ax.get_xticks()\n",
    "x_ticks[-1] = 10\n",
    "ax.set_xticks(x_ticks)\n",
    "\n",
    "fig.tight_layout()"
   ]
  },
  {
   "cell_type": "code",
   "execution_count": 36,
   "metadata": {},
   "outputs": [
    {
     "name": "stdout",
     "output_type": "stream",
     "text": [
      "No of Users with Zero Reviews posted: 1256\n",
      "\n",
      "Users with at least 1 but less than 10 reviews: 765628\n"
     ]
    }
   ],
   "source": [
    "print(\"No of Users with Zero Reviews posted: {0}\\n\".format(users_df[users_df['review_count']==0]['review_count'].count()))\n",
    "print(\"Users with at least 1 but less than 10 reviews: {0}\".format(users_df[(users_df['review_count']<10) & (users_df['review_count']>0)]['review_count'].count()))"
   ]
  },
  {
   "cell_type": "code",
   "execution_count": 37,
   "metadata": {},
   "outputs": [
    {
     "data": {
      "image/png": "[encoded data removed]",
      "text/plain": [
       "<matplotlib.figure.Figure at 0x26d70619f98>"
      ]
     },
     "metadata": {},
     "output_type": "display_data"
    }
   ],
   "source": [
    "fig, ax = plt.subplots()\n",
    "\n",
    "bins = list(np.arange(200,4000,50)) + list(np.arange(4000,9000,2000)) + [12000]\n",
    "ax.hist(users_df['review_count'], bins=bins)\n",
    "\n",
    "ax.set_title(\"User distribution by Review Count (>200)\")\n",
    "ax.set_xlabel(\"Review Count\")\n",
    "ax.set_ylabel(\"No of Users\")\n",
    "\n",
    "ax.set_xlim(left=0)\n",
    "x_ticks = ax.get_xticks()\n",
    "x_ticks[0] = 200\n",
    "ax.set_xticks(x_ticks)\n",
    "\n",
    "fig.tight_layout()"
   ]
  },
  {
   "cell_type": "code",
   "execution_count": 38,
   "metadata": {},
   "outputs": [
    {
     "data": {
      "image/png": "[encoded data removed]",
      "text/plain": [
       "<matplotlib.figure.Figure at 0x26d7058a668>"
      ]
     },
     "metadata": {},
     "output_type": "display_data"
    }
   ],
   "source": [
    "fig, ax = plt.subplots()\n",
    "bins = [x/2. for x in range(2,11)]\n",
    "ax.hist(users_df['average_stars'], bins=bins)\n",
    "\n",
    "ax.set_title(\"Users distribution by Avg Star Rating\")\n",
    "ax.set_xlabel(\"Star Rating\")\n",
    "ax.set_ylabel(\"No of Users\")\n",
    "fig.tight_layout()"
   ]
  },
  {
   "cell_type": "markdown",
   "metadata": {},
   "source": [
    "## Update 2"
   ]
  },
  {
   "cell_type": "code",
   "execution_count": 10,
   "metadata": {},
   "outputs": [],
   "source": [
    "filename='topic_distribution.txt'\n",
    "revcount = []\n",
    "\n",
    "with open(filename, encoding=\"utf8\", errors=\"ignore\") as fp:\n",
    "    for line in fp:\n",
    "        revcount.append(int(line.split(':')[1]))"
   ]
  },
  {
   "cell_type": "code",
   "execution_count": 25,
   "metadata": {},
   "outputs": [],
   "source": [
    "filename='topic clustering.csv'\n",
    "topics = []\n",
    "\n",
    "with open(filename) as inputfile:\n",
    "        readCSV = csv.reader(inputfile, delimiter=',')\n",
    " \n",
    "        for row in readCSV:\n",
    "            topics.append(row[1])"
   ]
  },
  {
   "cell_type": "code",
   "execution_count": 27,
   "metadata": {
    "scrolled": false
   },
   "outputs": [
    {
     "data": {
      "image/png": "[encoded data removed]",
      "text/plain": [
       "<matplotlib.figure.Figure at 0x1a9558beb38>"
      ]
     },
     "metadata": {},
     "output_type": "display_data"
    }
   ],
   "source": [
    "fig, ax = plt.subplots(figsize=(14,10))\n",
    "x_ticks_loc = np.arange(1,len(revcount)+1,1)\n",
    "#x_ticks = ('Jan','Feb','Mar','Apr','May','Jun','Jul','Aug','Sep','Oct','Nov','Dec')\n",
    "    \n",
    "ax.bar(np.arange(1,len(revcount)+1), revcount)\n",
    "ax.set_xticks(x_ticks_loc, minor=False )\n",
    "ax.set_xticklabels(topics, minor=False, rotation=90, horizontalalignment='center')\n",
    "\n",
    "ax.set_title(\"Reviews distribution by Topics\")\n",
    "ax.set_xlabel(\"Topics\")\n",
    "ax.set_ylabel(\"No of Reviews\")\n",
    "fig.tight_layout()"
   ]
  },
  {
   "cell_type": "markdown",
   "metadata": {},
   "source": [
    "After stopword removal, we found that #Topics = 50 gave very reasonable results for our restaurant review dataset."
   ]
  },
  {
   "cell_type": "markdown",
   "metadata": {},
   "source": [
    "For small topic numbers vocabulary belonging to seperate topics would become grouped into single topics, and for large topic numbers vocabulary that we might associate with a single topic (such as service) would become seperated into several individual\n",
    "topics.\n"
   ]
  },
  {
   "cell_type": "code",
   "execution_count": 28,
   "metadata": {
    "collapsed": true
   },
   "outputs": [],
   "source": [
    "# Combining Topics (based on List indices)\n",
    "ambience = [0,1,2,6,16,20,21,24,25,28,33,37,38,48]\n",
    "service = [1,16,20,21,24,25,27,28,33,34,35,37,28,40,45,47,48]\n",
    "price = [1,15,24,36,45,48]\n",
    "delivery = [22]\n",
    "taste = [14,29,35,40,46,49]\n",
    "food = [3,4,5,7,8,9,10,11,12,17,18,19,23,26,29,30,31,32,34,39,40,41,42,43,44,47,49]"
   ]
  },
  {
   "cell_type": "code",
   "execution_count": 75,
   "metadata": {},
   "outputs": [
    {
     "data": {
      "text/plain": [
       "[('food', 3193568),\n",
       " ('service', 2244119),\n",
       " ('ambience', 2023761),\n",
       " ('price', 814219),\n",
       " ('taste', 678272),\n",
       " ('delivery', 142225)]"
      ]
     },
     "execution_count": 75,
     "metadata": {},
     "output_type": "execute_result"
    }
   ],
   "source": [
    "topic_revcount = {}\n",
    "\n",
    "for t in ['ambience', 'service', 'price', 'delivery', 'taste','food']:\n",
    "    topic_revcount[t] = sum([revcount[i] for i in vars()[t]])\n",
    "    \n",
    "topic_revcount = sorted(topic_revcount.items(), key=lambda x: x[1], reverse=True)\n",
    "total_reviews = sum([rc[1] for rc in topic_revcount])\n",
    "\n",
    "topic_revcount"
   ]
  },
  {
   "cell_type": "code",
   "execution_count": 76,
   "metadata": {},
   "outputs": [
    {
     "data": {
      "image/png": "[encoded data removed]",
      "text/plain": [
       "<matplotlib.figure.Figure at 0x1a95535d550>"
      ]
     },
     "metadata": {},
     "output_type": "display_data"
    }
   ],
   "source": [
    "fig, ax = plt.subplots(figsize=(14,10))\n",
    "\n",
    "y_values = [rc[1] for rc in topic_revcount]\n",
    "x_ticks_loc = np.arange(1,len(y_values)+1,1)\n",
    "x_ticks_labels = [t[0] for t in topic_revcount]\n",
    "    \n",
    "ax.bar(np.arange(1,len(y_values)+1), y_values)\n",
    "ax.set_xticks(x_ticks_loc, minor=False )\n",
    "ax.set_xticklabels(x_ticks_labels, minor=False, rotation=45, horizontalalignment='center', fontsize=15)\n",
    "\n",
    "ax.set_title(\"Reviews distribution by Grouped-Topics\")\n",
    "ax.set_xlabel(\"Topics\")\n",
    "ax.set_ylabel(\"No of Reviews\")\n",
    "fig.tight_layout()"
   ]
  },
  {
   "cell_type": "code",
   "execution_count": 69,
   "metadata": {
    "collapsed": true
   },
   "outputs": [],
   "source": [
    "html_pygal = \"\"\"\n",
    "<!DOCTYPE html>\n",
    "<html>\n",
    "  <head>\n",
    "  <script type=\"text/javascript\" src=\"http://kozea.github.com/pygal.js/javascripts/svg.jquery.js\"></script>\n",
    "  <script type=\"text/javascript\" src=\"http://kozea.github.io/pygal.js/2.0.x/pygal-tooltips.js\"></script>\n",
    "    <!-- ... -->\n",
    "  </head>\n",
    "  <body>\n",
    "    <figure>\n",
    "      {pygal_render}\n",
    "    </figure>\n",
    "  </body>\n",
    "</html>\n",
    "\"\"\""
   ]
  },
  {
   "cell_type": "code",
   "execution_count": 81,
   "metadata": {},
   "outputs": [
    {
     "data": {
      "text/html": [
       "\n",
       "<!DOCTYPE html>\n",
       "<html>\n",
       "  <head>\n",
       "  <script type=\"text/javascript\" src=\"http://kozea.github.com/pygal.js/javascripts/svg.jquery.js\"></script>\n",
       "  <script type=\"text/javascript\" src=\"http://kozea.github.io/pygal.js/2.0.x/pygal-tooltips.js\"></script>\n",
       "    <!-- ... -->\n",
       "  </head>\n",
       "  <body>\n",
       "    <figure>\n",
       "      <?xml version='1.0' encoding='utf-8'?>\n",
       "<svg xmlns:xlink=\"http://www.w3.org/1999/xlink\" xmlns=\"http://www.w3.org/2000/svg\" id=\"chart-8aee1806-31c9-4253-899a-0ad8c6063aa2\" class=\"pygal-chart\" viewBox=\"0 0 800 600\"><!--Generated with pygal 2.4.0 (lxml) ©Kozea 2012-2016 on 2017-11-21--><!--http://pygal.org--><!--http://github.com/Kozea/pygal--><defs><style type=\"text/css\">#chart-8aee1806-31c9-4253-899a-0ad8c6063aa2{-webkit-user-select:none;-webkit-font-smoothing:antialiased;font-family:Consolas,\"Liberation Mono\",Menlo,Courier,monospace}#chart-8aee1806-31c9-4253-899a-0ad8c6063aa2 .title{font-family:Consolas,\"Liberation Mono\",Menlo,Courier,monospace;font-size:16px}#chart-8aee1806-31c9-4253-899a-0ad8c6063aa2 .legends .legend text{font-family:Consolas,\"Liberation Mono\",Menlo,Courier,monospace;font-size:14px}#chart-8aee1806-31c9-4253-899a-0ad8c6063aa2 .axis text{font-family:Consolas,\"Liberation Mono\",Menlo,Courier,monospace;font-size:10px}#chart-8aee1806-31c9-4253-899a-0ad8c6063aa2 .axis text.major{font-family:Consolas,\"Liberation Mono\",Menlo,Courier,monospace;font-size:10px}#chart-8aee1806-31c9-4253-899a-0ad8c6063aa2 .text-overlay text.value{font-family:Consolas,\"Liberation Mono\",Menlo,Courier,monospace;font-size:16px}#chart-8aee1806-31c9-4253-899a-0ad8c6063aa2 .text-overlay text.label{font-family:Consolas,\"Liberation Mono\",Menlo,Courier,monospace;font-size:10px}#chart-8aee1806-31c9-4253-899a-0ad8c6063aa2 .tooltip{font-family:Consolas,\"Liberation Mono\",Menlo,Courier,monospace;font-size:14px}#chart-8aee1806-31c9-4253-899a-0ad8c6063aa2 text.no_data{font-family:Consolas,\"Liberation Mono\",Menlo,Courier,monospace;font-size:64px}\n",
       "#chart-8aee1806-31c9-4253-899a-0ad8c6063aa2{background-color:rgba(249,249,249,1)}#chart-8aee1806-31c9-4253-899a-0ad8c6063aa2 path,#chart-8aee1806-31c9-4253-899a-0ad8c6063aa2 line,#chart-8aee1806-31c9-4253-899a-0ad8c6063aa2 rect,#chart-8aee1806-31c9-4253-899a-0ad8c6063aa2 circle{-webkit-transition:150ms;-moz-transition:150ms;transition:150ms}#chart-8aee1806-31c9-4253-899a-0ad8c6063aa2 .graph &gt; .background{fill:rgba(249,249,249,1)}#chart-8aee1806-31c9-4253-899a-0ad8c6063aa2 .plot &gt; .background{fill:rgba(255,255,255,1)}#chart-8aee1806-31c9-4253-899a-0ad8c6063aa2 .graph{fill:rgba(0,0,0,.87)}#chart-8aee1806-31c9-4253-899a-0ad8c6063aa2 text.no_data{fill:rgba(0,0,0,1)}#chart-8aee1806-31c9-4253-899a-0ad8c6063aa2 .title{fill:rgba(0,0,0,1)}#chart-8aee1806-31c9-4253-899a-0ad8c6063aa2 .legends .legend text{fill:rgba(0,0,0,.87)}#chart-8aee1806-31c9-4253-899a-0ad8c6063aa2 .legends .legend:hover text{fill:rgba(0,0,0,1)}#chart-8aee1806-31c9-4253-899a-0ad8c6063aa2 .axis .line{stroke:rgba(0,0,0,1)}#chart-8aee1806-31c9-4253-899a-0ad8c6063aa2 .axis .guide.line{stroke:rgba(0,0,0,.54)}#chart-8aee1806-31c9-4253-899a-0ad8c6063aa2 .axis .major.line{stroke:rgba(0,0,0,.87)}#chart-8aee1806-31c9-4253-899a-0ad8c6063aa2 .axis text.major{fill:rgba(0,0,0,1)}#chart-8aee1806-31c9-4253-899a-0ad8c6063aa2 .axis.y .guides:hover .guide.line,#chart-8aee1806-31c9-4253-899a-0ad8c6063aa2 .line-graph .axis.x .guides:hover .guide.line,#chart-8aee1806-31c9-4253-899a-0ad8c6063aa2 .stackedline-graph .axis.x .guides:hover .guide.line,#chart-8aee1806-31c9-4253-899a-0ad8c6063aa2 .xy-graph .axis.x .guides:hover .guide.line{stroke:rgba(0,0,0,1)}#chart-8aee1806-31c9-4253-899a-0ad8c6063aa2 .axis .guides:hover text{fill:rgba(0,0,0,1)}#chart-8aee1806-31c9-4253-899a-0ad8c6063aa2 .reactive{fill-opacity:.7;stroke-opacity:.8}#chart-8aee1806-31c9-4253-899a-0ad8c6063aa2 .ci{stroke:rgba(0,0,0,.87)}#chart-8aee1806-31c9-4253-899a-0ad8c6063aa2 .reactive.active,#chart-8aee1806-31c9-4253-899a-0ad8c6063aa2 .active .reactive{fill-opacity:.8;stroke-opacity:.9;stroke-width:4}#chart-8aee1806-31c9-4253-899a-0ad8c6063aa2 .ci .reactive.active{stroke-width:1.5}#chart-8aee1806-31c9-4253-899a-0ad8c6063aa2 .series text{fill:rgba(0,0,0,1)}#chart-8aee1806-31c9-4253-899a-0ad8c6063aa2 .tooltip rect{fill:rgba(255,255,255,1);stroke:rgba(0,0,0,1);-webkit-transition:opacity 150ms;-moz-transition:opacity 150ms;transition:opacity 150ms}#chart-8aee1806-31c9-4253-899a-0ad8c6063aa2 .tooltip .label{fill:rgba(0,0,0,.87)}#chart-8aee1806-31c9-4253-899a-0ad8c6063aa2 .tooltip .label{fill:rgba(0,0,0,.87)}#chart-8aee1806-31c9-4253-899a-0ad8c6063aa2 .tooltip .legend{font-size:.8em;fill:rgba(0,0,0,.54)}#chart-8aee1806-31c9-4253-899a-0ad8c6063aa2 .tooltip .x_label{font-size:.6em;fill:rgba(0,0,0,1)}#chart-8aee1806-31c9-4253-899a-0ad8c6063aa2 .tooltip .xlink{font-size:.5em;text-decoration:underline}#chart-8aee1806-31c9-4253-899a-0ad8c6063aa2 .tooltip .value{font-size:1.5em}#chart-8aee1806-31c9-4253-899a-0ad8c6063aa2 .bound{font-size:.5em}#chart-8aee1806-31c9-4253-899a-0ad8c6063aa2 .max-value{font-size:.75em;fill:rgba(0,0,0,.54)}#chart-8aee1806-31c9-4253-899a-0ad8c6063aa2 .map-element{fill:rgba(255,255,255,1);stroke:rgba(0,0,0,.54) !important}#chart-8aee1806-31c9-4253-899a-0ad8c6063aa2 .map-element .reactive{fill-opacity:inherit;stroke-opacity:inherit}#chart-8aee1806-31c9-4253-899a-0ad8c6063aa2 .color-0,#chart-8aee1806-31c9-4253-899a-0ad8c6063aa2 .color-0 a:visited{stroke:#F44336;fill:#F44336}#chart-8aee1806-31c9-4253-899a-0ad8c6063aa2 .color-1,#chart-8aee1806-31c9-4253-899a-0ad8c6063aa2 .color-1 a:visited{stroke:#3F51B5;fill:#3F51B5}#chart-8aee1806-31c9-4253-899a-0ad8c6063aa2 .color-2,#chart-8aee1806-31c9-4253-899a-0ad8c6063aa2 .color-2 a:visited{stroke:#009688;fill:#009688}#chart-8aee1806-31c9-4253-899a-0ad8c6063aa2 .color-3,#chart-8aee1806-31c9-4253-899a-0ad8c6063aa2 .color-3 a:visited{stroke:#FFC107;fill:#FFC107}#chart-8aee1806-31c9-4253-899a-0ad8c6063aa2 .color-4,#chart-8aee1806-31c9-4253-899a-0ad8c6063aa2 .color-4 a:visited{stroke:#FF5722;fill:#FF5722}#chart-8aee1806-31c9-4253-899a-0ad8c6063aa2 .color-5,#chart-8aee1806-31c9-4253-899a-0ad8c6063aa2 .color-5 a:visited{stroke:#9C27B0;fill:#9C27B0}#chart-8aee1806-31c9-4253-899a-0ad8c6063aa2 .text-overlay .color-0 text{fill:black}#chart-8aee1806-31c9-4253-899a-0ad8c6063aa2 .text-overlay .color-1 text{fill:black}#chart-8aee1806-31c9-4253-899a-0ad8c6063aa2 .text-overlay .color-2 text{fill:black}#chart-8aee1806-31c9-4253-899a-0ad8c6063aa2 .text-overlay .color-3 text{fill:black}#chart-8aee1806-31c9-4253-899a-0ad8c6063aa2 .text-overlay .color-4 text{fill:black}#chart-8aee1806-31c9-4253-899a-0ad8c6063aa2 .text-overlay .color-5 text{fill:black}\n",
       "#chart-8aee1806-31c9-4253-899a-0ad8c6063aa2 text.no_data{text-anchor:middle}#chart-8aee1806-31c9-4253-899a-0ad8c6063aa2 .guide.line{fill:none}#chart-8aee1806-31c9-4253-899a-0ad8c6063aa2 .centered{text-anchor:middle}#chart-8aee1806-31c9-4253-899a-0ad8c6063aa2 .title{text-anchor:middle}#chart-8aee1806-31c9-4253-899a-0ad8c6063aa2 .legends .legend text{fill-opacity:1}#chart-8aee1806-31c9-4253-899a-0ad8c6063aa2 .axis.x text{text-anchor:middle}#chart-8aee1806-31c9-4253-899a-0ad8c6063aa2 .axis.x:not(.web) text[transform]{text-anchor:start}#chart-8aee1806-31c9-4253-899a-0ad8c6063aa2 .axis.x:not(.web) text[transform].backwards{text-anchor:end}#chart-8aee1806-31c9-4253-899a-0ad8c6063aa2 .axis.y text{text-anchor:end}#chart-8aee1806-31c9-4253-899a-0ad8c6063aa2 .axis.y text[transform].backwards{text-anchor:start}#chart-8aee1806-31c9-4253-899a-0ad8c6063aa2 .axis.y2 text{text-anchor:start}#chart-8aee1806-31c9-4253-899a-0ad8c6063aa2 .axis.y2 text[transform].backwards{text-anchor:end}#chart-8aee1806-31c9-4253-899a-0ad8c6063aa2 .axis .guide.line{stroke-dasharray:4,4}#chart-8aee1806-31c9-4253-899a-0ad8c6063aa2 .axis .major.guide.line{stroke-dasharray:6,6}#chart-8aee1806-31c9-4253-899a-0ad8c6063aa2 .horizontal .axis.y .guide.line,#chart-8aee1806-31c9-4253-899a-0ad8c6063aa2 .horizontal .axis.y2 .guide.line,#chart-8aee1806-31c9-4253-899a-0ad8c6063aa2 .vertical .axis.x .guide.line{opacity:0}#chart-8aee1806-31c9-4253-899a-0ad8c6063aa2 .horizontal .axis.always_show .guide.line,#chart-8aee1806-31c9-4253-899a-0ad8c6063aa2 .vertical .axis.always_show .guide.line{opacity:1 !important}#chart-8aee1806-31c9-4253-899a-0ad8c6063aa2 .axis.y .guides:hover .guide.line,#chart-8aee1806-31c9-4253-899a-0ad8c6063aa2 .axis.y2 .guides:hover .guide.line,#chart-8aee1806-31c9-4253-899a-0ad8c6063aa2 .axis.x .guides:hover .guide.line{opacity:1}#chart-8aee1806-31c9-4253-899a-0ad8c6063aa2 .axis .guides:hover text{opacity:1}#chart-8aee1806-31c9-4253-899a-0ad8c6063aa2 .nofill{fill:none}#chart-8aee1806-31c9-4253-899a-0ad8c6063aa2 .subtle-fill{fill-opacity:.2}#chart-8aee1806-31c9-4253-899a-0ad8c6063aa2 .dot{stroke-width:1px;fill-opacity:1}#chart-8aee1806-31c9-4253-899a-0ad8c6063aa2 .dot.active{stroke-width:5px}#chart-8aee1806-31c9-4253-899a-0ad8c6063aa2 .dot.negative{fill:transparent}#chart-8aee1806-31c9-4253-899a-0ad8c6063aa2 text,#chart-8aee1806-31c9-4253-899a-0ad8c6063aa2 tspan{stroke:none !important}#chart-8aee1806-31c9-4253-899a-0ad8c6063aa2 .series text.active{opacity:1}#chart-8aee1806-31c9-4253-899a-0ad8c6063aa2 .tooltip rect{fill-opacity:.95;stroke-width:.5}#chart-8aee1806-31c9-4253-899a-0ad8c6063aa2 .tooltip text{fill-opacity:1}#chart-8aee1806-31c9-4253-899a-0ad8c6063aa2 .showable{visibility:hidden}#chart-8aee1806-31c9-4253-899a-0ad8c6063aa2 .showable.shown{visibility:visible}#chart-8aee1806-31c9-4253-899a-0ad8c6063aa2 .gauge-background{fill:rgba(229,229,229,1);stroke:none}#chart-8aee1806-31c9-4253-899a-0ad8c6063aa2 .bg-lines{stroke:rgba(249,249,249,1);stroke-width:2px}</style><script type=\"text/javascript\">window.pygal = window.pygal || {};window.pygal.config = window.pygal.config || {};window.pygal.config['8aee1806-31c9-4253-899a-0ad8c6063aa2'] = {\"allow_interruptions\": false, \"box_mode\": \"extremes\", \"classes\": [\"pygal-chart\"], \"css\": [\"file://style.css\", \"file://graph.css\"], \"defs\": [], \"disable_xml_declaration\": false, \"dots_size\": 2.5, \"dynamic_print_values\": false, \"explicit_size\": false, \"fill\": false, \"force_uri_protocol\": \"https\", \"formatter\": null, \"half_pie\": false, \"height\": 600, \"include_x_axis\": false, \"inner_radius\": 0.4, \"interpolate\": null, \"interpolation_parameters\": {}, \"interpolation_precision\": 250, \"inverse_y_axis\": false, \"js\": [\"//kozea.github.io/pygal.js/2.0.x/pygal-tooltips.min.js\"], \"legend_at_bottom\": false, \"legend_at_bottom_columns\": null, \"legend_box_size\": 12, \"logarithmic\": false, \"margin\": 20, \"margin_bottom\": null, \"margin_left\": null, \"margin_right\": null, \"margin_top\": null, \"max_scale\": 16, \"min_scale\": 4, \"missing_value_fill_truncation\": \"x\", \"no_data_text\": \"No data\", \"no_prefix\": false, \"order_min\": null, \"pretty_print\": false, \"print_labels\": false, \"print_values\": false, \"print_values_position\": \"center\", \"print_zeroes\": true, \"range\": null, \"rounded_bars\": null, \"secondary_range\": null, \"show_dots\": true, \"show_legend\": true, \"show_minor_x_labels\": true, \"show_minor_y_labels\": true, \"show_only_major_dots\": false, \"show_x_guides\": false, \"show_x_labels\": true, \"show_y_guides\": true, \"show_y_labels\": true, \"spacing\": 10, \"stack_from_top\": false, \"strict\": false, \"stroke\": true, \"stroke_style\": null, \"style\": {\"background\": \"rgba(249, 249, 249, 1)\", \"ci_colors\": [], \"colors\": [\"#F44336\", \"#3F51B5\", \"#009688\", \"#FFC107\", \"#FF5722\", \"#9C27B0\", \"#03A9F4\", \"#8BC34A\", \"#FF9800\", \"#E91E63\", \"#2196F3\", \"#4CAF50\", \"#FFEB3B\", \"#673AB7\", \"#00BCD4\", \"#CDDC39\", \"#9E9E9E\", \"#607D8B\"], \"font_family\": \"Consolas, \\\"Liberation Mono\\\", Menlo, Courier, monospace\", \"foreground\": \"rgba(0, 0, 0, .87)\", \"foreground_strong\": \"rgba(0, 0, 0, 1)\", \"foreground_subtle\": \"rgba(0, 0, 0, .54)\", \"guide_stroke_dasharray\": \"4,4\", \"label_font_family\": \"Consolas, \\\"Liberation Mono\\\", Menlo, Courier, monospace\", \"label_font_size\": 10, \"legend_font_family\": \"Consolas, \\\"Liberation Mono\\\", Menlo, Courier, monospace\", \"legend_font_size\": 14, \"major_guide_stroke_dasharray\": \"6,6\", \"major_label_font_family\": \"Consolas, \\\"Liberation Mono\\\", Menlo, Courier, monospace\", \"major_label_font_size\": 10, \"no_data_font_family\": \"Consolas, \\\"Liberation Mono\\\", Menlo, Courier, monospace\", \"no_data_font_size\": 64, \"opacity\": \".7\", \"opacity_hover\": \".8\", \"plot_background\": \"rgba(255, 255, 255, 1)\", \"stroke_opacity\": \".8\", \"stroke_opacity_hover\": \".9\", \"title_font_family\": \"Consolas, \\\"Liberation Mono\\\", Menlo, Courier, monospace\", \"title_font_size\": 16, \"tooltip_font_family\": \"Consolas, \\\"Liberation Mono\\\", Menlo, Courier, monospace\", \"tooltip_font_size\": 14, \"transition\": \"150ms\", \"value_background\": \"rgba(229, 229, 229, 1)\", \"value_colors\": [], \"value_font_family\": \"Consolas, \\\"Liberation Mono\\\", Menlo, Courier, monospace\", \"value_font_size\": 16, \"value_label_font_family\": \"Consolas, \\\"Liberation Mono\\\", Menlo, Courier, monospace\", \"value_label_font_size\": 10}, \"title\": \"Reviews distribution among Topics (in %)\", \"tooltip_border_radius\": 0, \"tooltip_fancy_mode\": true, \"truncate_label\": null, \"truncate_legend\": null, \"width\": 800, \"x_label_rotation\": 0, \"x_labels\": null, \"x_labels_major\": null, \"x_labels_major_count\": null, \"x_labels_major_every\": null, \"x_title\": null, \"xrange\": null, \"y_label_rotation\": 0, \"y_labels\": null, \"y_labels_major\": null, \"y_labels_major_count\": null, \"y_labels_major_every\": null, \"y_title\": null, \"zero\": 0, \"legends\": [\"Food\", \"Service\", \"Ambience\", \"Price\", \"Taste\", \"Delivery\"]}</script><script type=\"text/javascript\" xlink:href=\"https://kozea.github.io/pygal.js/2.0.x/pygal-tooltips.min.js\"/></defs><title>Reviews distribution among Topics (in %)</title><g class=\"graph pie-graph vertical\"><rect class=\"background\" height=\"600\" width=\"800\" x=\"0\" y=\"0\"/><g class=\"plot\" transform=\"translate(109, 46)\"><rect class=\"background\" height=\"534\" width=\"670.8\" x=\"0\" y=\"0\"/><g class=\"series serie-0 color-0\"><g class=\"slices\"><g class=\"slice\"><path class=\"slice reactive tooltip-trigger\" d=\"M335.400000 26.700000 A240.300000 240.300000 0 0 1 528.825934 409.585055 L421.367082 330.371136 A106.800000 106.800000 0 0 0 335.400000 160.200000 z\"/><desc class=\"value\">35.11</desc><desc class=\"x centered\">490.30553726479155</desc><desc class=\"y centered\">188.7447955423649</desc></g></g></g><g class=\"series serie-1 color-1\"><g class=\"slices\"><g class=\"slice\"><path class=\"slice reactive tooltip-trigger\" d=\"M528.825934 409.585055 A240.300000 240.300000 0 0 1 196.855899 463.340577 L273.824844 354.262478 A106.800000 106.800000 0 0 0 421.367082 330.371136 z\"/><desc class=\"value\">24.67</desc><desc class=\"x centered\">363.1413999981737</desc><desc class=\"y centered\">438.3184672653282</desc></g></g></g><g class=\"series serie-2 color-2\"><g class=\"slices\"><g class=\"slice\"><path class=\"slice reactive tooltip-trigger\" d=\"M196.855899 463.340577 A240.300000 240.300000 0 0 1 118.163304 164.275572 L238.850357 221.344699 A106.800000 106.800000 0 0 0 273.824844 354.262478 z\"/><desc class=\"value\">22.25</desc><desc class=\"x centered\">167.56300938454032</desc><desc class=\"y centered\">311.16273407689016</desc></g></g></g><g class=\"series serie-3 color-3\"><g class=\"slices\"><g class=\"slice\"><path class=\"slice reactive tooltip-trigger\" d=\"M118.163304 164.275572 A240.300000 240.300000 0 0 1 206.385961 64.269963 L278.060427 176.897761 A106.800000 106.800000 0 0 0 238.850357 221.344699 z\"/><desc class=\"value\">8.95</desc><desc class=\"x centered\">205.25428655995358</desc><desc class=\"y centered\">152.1884336263052</desc></g></g></g><g class=\"series serie-4 color-4\"><g class=\"slices\"><g class=\"slice\"><path class=\"slice reactive tooltip-trigger\" d=\"M206.385961 64.269963 A240.300000 240.300000 0 0 1 311.884046 27.853413 L324.948465 160.712628 A106.800000 106.800000 0 0 0 278.060427 176.897761 z\"/><desc class=\"value\">7.46</desc><desc class=\"x centered\">278.77164774650015</desc><desc class=\"y centered\">102.94869027937162</desc></g></g></g><g class=\"series serie-5 color-5\"><g class=\"slices\"><g class=\"slice\"><path class=\"slice reactive tooltip-trigger\" d=\"M311.884046 27.853413 A240.300000 240.300000 0 0 1 335.400000 26.700000 L335.400000 160.200000 A106.800000 106.800000 0 0 0 324.948465 160.712628 z\"/><desc class=\"value\">1.56</desc><desc class=\"x centered\">326.8979193132161</desc><desc class=\"y centered\">93.65838028910824</desc></g></g></g></g><g class=\"titles\"><text class=\"title plot_title\" x=\"400.0\" y=\"26\">Reviews distribution among Topics (in %)</text></g><g class=\"plot overlay\" transform=\"translate(109, 46)\"><g class=\"series serie-0 color-0\"/><g class=\"series serie-1 color-1\"/><g class=\"series serie-2 color-2\"/><g class=\"series serie-3 color-3\"/><g class=\"series serie-4 color-4\"/><g class=\"series serie-5 color-5\"/></g><g class=\"plot text-overlay\" transform=\"translate(109, 46)\"><g class=\"series serie-0 color-0\"/><g class=\"series serie-1 color-1\"/><g class=\"series serie-2 color-2\"/><g class=\"series serie-3 color-3\"/><g class=\"series serie-4 color-4\"/><g class=\"series serie-5 color-5\"/></g><g class=\"plot tooltip-overlay\" transform=\"translate(109, 46)\"><g class=\"tooltip\" style=\"opacity: 0\" transform=\"translate(0 0)\"><rect class=\"tooltip-box\" height=\"0\" rx=\"0\" ry=\"0\" width=\"0\"/><g class=\"text\"/></g></g><g class=\"legends\" transform=\"translate(10, 56)\"><g class=\"legend reactive activate-serie\" id=\"activate-serie-0\"><rect class=\"color-0 reactive\" height=\"12\" width=\"12\" x=\"0.0\" y=\"1.0\"/><text x=\"17.0\" y=\"11.2\">Food</text></g><g class=\"legend reactive activate-serie\" id=\"activate-serie-1\"><rect class=\"color-1 reactive\" height=\"12\" width=\"12\" x=\"0.0\" y=\"22.0\"/><text x=\"17.0\" y=\"32.2\">Service</text></g><g class=\"legend reactive activate-serie\" id=\"activate-serie-2\"><rect class=\"color-2 reactive\" height=\"12\" width=\"12\" x=\"0.0\" y=\"43.0\"/><text x=\"17.0\" y=\"53.2\">Ambience</text></g><g class=\"legend reactive activate-serie\" id=\"activate-serie-3\"><rect class=\"color-3 reactive\" height=\"12\" width=\"12\" x=\"0.0\" y=\"64.0\"/><text x=\"17.0\" y=\"74.2\">Price</text></g><g class=\"legend reactive activate-serie\" id=\"activate-serie-4\"><rect class=\"color-4 reactive\" height=\"12\" width=\"12\" x=\"0.0\" y=\"85.0\"/><text x=\"17.0\" y=\"95.2\">Taste</text></g><g class=\"legend reactive activate-serie\" id=\"activate-serie-5\"><rect class=\"color-5 reactive\" height=\"12\" width=\"12\" x=\"0.0\" y=\"106.0\"/><text x=\"17.0\" y=\"116.2\">Delivery</text></g></g><g class=\"legends\" transform=\"translate(790, 56)\"/></g></svg>\n",
       "    </figure>\n",
       "  </body>\n",
       "</html>\n"
      ],
      "text/plain": [
       "<IPython.core.display.HTML object>"
      ]
     },
     "metadata": {},
     "output_type": "display_data"
    }
   ],
   "source": [
    "pie_chart = pygal.Pie(inner_radius=.4)\n",
    "pie_chart.title = 'Reviews distribution among Topics (in %)'\n",
    "pie_chart.add('Food', round(topic_revcount[0][1]/total_reviews*100, 2))\n",
    "pie_chart.add('Service', round(topic_revcount[1][1]/total_reviews*100, 2))\n",
    "pie_chart.add('Ambience', round(topic_revcount[2][1]/total_reviews*100, 2))\n",
    "pie_chart.add('Price', round(topic_revcount[3][1]/total_reviews*100, 2))\n",
    "pie_chart.add('Taste', round(topic_revcount[4][1]/total_reviews*100, 2))\n",
    "pie_chart.add('Delivery', round(topic_revcount[5][1]/total_reviews*100, 2))\n",
    "\n",
    "display(HTML(html_pygal.format(pygal_render=pie_chart.render(is_unicode=True))))"
   ]
  },
  {
   "cell_type": "code",
   "execution_count": null,
   "metadata": {
    "collapsed": true
   },
   "outputs": [],
   "source": []
  }
 ],
 "metadata": {
  "kernelspec": {
   "display_name": "Python 3",
   "language": "python",
   "name": "python3"
  },
  "language_info": {
   "codemirror_mode": {
    "name": "ipython",
    "version": 3
   },
   "file_extension": ".py",
   "mimetype": "text/x-python",
   "name": "python",
   "nbconvert_exporter": "python",
   "pygments_lexer": "ipython3",
   "version": "3.6.1"
  }
 },
 "nbformat": 4,
 "nbformat_minor": 2
}

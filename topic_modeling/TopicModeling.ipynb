{
 "cells": [
  {
   "cell_type": "markdown",
   "metadata": {},
   "source": [
    "# Topic Modeling"
   ]
  },
  {
   "cell_type": "code",
   "execution_count": 3,
   "metadata": {},
   "outputs": [],
   "source": [
    "from nltk.stem import *\n",
    "import numpy as np\n",
    "import textmining\n",
    "import re\n",
    "import lda\n",
    "import lda.datasets\n",
    "import json\n",
    "from nltk.corpus import stopwords\n",
    "from scipy.sparse import coo_matrix\n",
    "stopWords = set(stopwords.words('english'))\n",
    "stemmer = SnowballStemmer(\"english\")"
   ]
  },
  {
   "cell_type": "code",
   "execution_count": 4,
   "metadata": {},
   "outputs": [
    {
     "name": "stdout",
     "output_type": "stream",
     "text": [
      "Processed all reviews!\n"
     ]
    }
   ],
   "source": [
    "reviewDocs = dict()\n",
    "with open(\"../input/review.json\") as json_file:\n",
    "    line_count = 0\n",
    "    for line in json_file:\n",
    "        review = json.loads(line)\n",
    "        text = review['text']\n",
    "        text = re.sub('[^A-Za-z ]+', '', text)\n",
    "        text = text.lower()\n",
    "        text = ' '.join([word.strip() for word in text.split(' ') if word.strip() not in stopWords])\n",
    "#         text = ' '.join([stemmer.stem(word) for word in text.split() if stemmer.stem(word) not in stopWords])\n",
    "        reviewDocs[review['review_id']] = text\n",
    "    print(\"Processed all reviews!\")"
   ]
  },
  {
   "cell_type": "code",
   "execution_count": null,
   "metadata": {},
   "outputs": [],
   "source": [
    "#Create Sparse Document-Term Matrix for LDA\n",
    "\n",
    "n_nonzero = 0\n",
    "vocab = set()\n",
    "for terms in reviewDocs.values():\n",
    "    unique_terms = set(terms.split())    # all unique terms of this doc\n",
    "    vocab |= unique_terms           # set union: add unique terms of this doc\n",
    "    n_nonzero += len(unique_terms)  # add count of unique terms in this doc\n",
    "\n",
    "# The ReviewId vector\n",
    "docnames = np.array(list(reviewDocs.keys()))\n",
    "# Create the vocab vector\n",
    "vocab = np.array(list(vocab)) \n",
    "# indices that sort vocab\n",
    "vocab_sorter = np.argsort(vocab)    \n",
    "\n",
    "ndocs = len(docnames)\n",
    "nvocab = len(vocab)\n",
    "print(ndocs,nvocab,n_nonzero)\n",
    "data = np.empty(n_nonzero, dtype=np.intc)     # unique terms in the combined corpus of all the document\n",
    "rows = np.empty(n_nonzero, dtype=np.intc)     # document index where the term is present\n",
    "cols = np.empty(n_nonzero, dtype=np.intc)     # position of the term in the document\n",
    "print(len(rows),len(cols),len(data))"
   ]
  },
  {
   "cell_type": "code",
   "execution_count": null,
   "metadata": {},
   "outputs": [],
   "source": [
    "ind = 0     # current index in the sparse matrix data\n",
    "# go through all documents with their terms\n",
    "for docname, terms in reviewDocs.items():\n",
    "    # find indices into  such that, if the corresponding elements in  were\n",
    "    # inserted before the indices, the order of  would be preserved\n",
    "    # -> array of indices of  in \n",
    "    term_indices = vocab_sorter[np.searchsorted(vocab, terms.split(), sorter=vocab_sorter)]\n",
    "\n",
    "    # count the unique terms of the document and get their vocabulary indices\n",
    "    uniq_indices, counts = np.unique(term_indices, return_counts=True)\n",
    "    n_vals = len(uniq_indices)  # = number of unique terms\n",
    "    ind_end = ind + n_vals  #  to  is the slice that we will fill with data\n",
    "\n",
    "    data[ind:ind_end] = counts                  # save the counts (term frequencies)\n",
    "    cols[ind:ind_end] = uniq_indices            # save the column index: index in \n",
    "    doc_idx = np.where(docnames == docname)     # get the document index for the document name\n",
    "    rows[ind:ind_end] = np.repeat(doc_idx, n_vals)  # save it as repeated value\n",
    "\n",
    "    ind = ind_end  # resume with next document -> add data to the end\n",
    "    \n",
    "dtm = coo_matrix((data, (rows, cols)), shape=(ndocs, nvocab), dtype=np.intc)\n",
    "print(\"type(X): {}\".format(type(dtm)))\n",
    "print(\"shape: {}\".format(dtm.shape))\n"
   ]
  },
  {
   "cell_type": "code",
   "execution_count": null,
   "metadata": {},
   "outputs": [],
   "source": [
    "model = lda.LDA(n_topics=50, n_iter=1500, random_state=1)\n",
    "model.fit(dtm)\n",
    "doc_topic = model.doc_topic_\n",
    "# print(\"review Topic Distribution\\n\")\n",
    "# print doc_topic\n",
    "# for i, doc_dist in enumerate(doc_topic):\n",
    "#     print(\"Doc \", i)\n",
    "#     print(doc_dist)\n",
    "#     # for j,topic in enumerate(doc_dist):\n",
    "#     #     print \"Topic \",j,\" = \",topic\n",
    "\n",
    "topic_word = model.topic_word_\n",
    "print(\"Topic Word Distribution\")\n",
    "# print topic_word\n",
    "n_top_words = 10\n",
    "# for i, word_dist in enumerate(topic_word):\n",
    "#     topic_words = np.array(vocab)[np.argsort(word_dist)][:-(n_top_words + 1):-1]\n",
    "#     word_dist_sorted = sorted(word_dist,reverse=True)\n",
    "#     print(\"Topic \", i)\n",
    "#     for j,words in enumerate(topic_words):\n",
    "#         print(words,\" = \",word_dist_sorted[j])\n",
    "#     # print \"Topic \", i,\" \", word_dist,\"\\n\"\n",
    "    \n",
    "for i, topic_dist in enumerate(topic_word):\n",
    "    topic_words = np.array(vocab)[np.argsort(topic_dist)][:-(n_top_words+1):-1]\n",
    "    print('Topic {}: {}'.format(i, ' '.join(topic_words)))    "
   ]
  },
  {
   "cell_type": "code",
   "execution_count": null,
   "metadata": {
    "collapsed": true
   },
   "outputs": [],
   "source": []
  }
 ],
 "metadata": {
  "kernelspec": {
   "display_name": "Python 3",
   "language": "python",
   "name": "python3"
  },
  "language_info": {
   "codemirror_mode": {
    "name": "ipython",
    "version": 3
   },
   "file_extension": ".py",
   "mimetype": "text/x-python",
   "name": "python",
   "nbconvert_exporter": "python",
   "pygments_lexer": "ipython3",
   "version": "3.6.1"
  }
 },
 "nbformat": 4,
 "nbformat_minor": 2
}
